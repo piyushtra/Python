{
 "cells": [
  {
   "cell_type": "code",
   "execution_count": 1,
   "metadata": {},
   "outputs": [],
   "source": [
    "import numpy as np"
   ]
  },
  {
   "cell_type": "code",
   "execution_count": 2,
   "metadata": {},
   "outputs": [],
   "source": [
    "def gaussian_elimination(coefficients: np.matrix, vector: np.array) -> np.array:\n",
    "    \"\"\"\n",
    "    This function performs Gaussian elimination method\n",
    "\n",
    "    Examples:\n",
    "        1x1 - 4x2 - 2x3 = -2        1x1 + 2x2 = 5\n",
    "        5x1 + 2x2 - 2x3 = -3        5x1 + 2x2 = 5\n",
    "        1x1 - 1x2 + 0x3 = 4\n",
    "    >>> gaussian_elimination([[1, -4, -2], [5, 2, -2], [1, -1, 0]], [[-2], [-3], [4]])\n",
    "    array([[ 2.3 ],\n",
    "           [-1.7 ],\n",
    "           [ 5.55]])\n",
    "    >>> gaussian_elimination([[1, 2], [5, 2]], [[5], [5]])\n",
    "    array([[0. ],\n",
    "           [2.5]])\n",
    "    \"\"\"\n",
    "    # coefficients must to be a square matrix so we need to check first\n",
    "    rows, columns = np.shape(coefficients)\n",
    "    if rows != columns:\n",
    "        return []\n",
    "\n",
    "    # augmented matrix\n",
    "    augmented_mat = np.concatenate((coefficients, vector), axis=1)\n",
    "    augmented_mat = augmented_mat.astype(\"float64\")\n",
    "\n",
    "    # scale the matrix leaving it triangular\n",
    "    for row in range(rows - 1):\n",
    "        pivot = augmented_mat[row, row]\n",
    "        for col in range(row + 1, columns):\n",
    "            factor = augmented_mat[col, row] / pivot\n",
    "            augmented_mat[col, :] -= factor * augmented_mat[row, :]\n",
    "\n",
    "    x = retroactive_resolution(\n",
    "        augmented_mat[:, 0:columns], augmented_mat[:, columns : columns + 1]\n",
    "    )\n",
    "\n",
    "    return x"
   ]
  },
  {
   "cell_type": "code",
   "execution_count": 3,
   "metadata": {},
   "outputs": [],
   "source": [
    "def retroactive_resolution(coefficients: np.matrix, vector: np.array) -> np.array:\n",
    "    \"\"\"\n",
    "    This function performs a retroactive linear system resolution\n",
    "        for triangular matrix\n",
    "\n",
    "    Examples:\n",
    "        2x1 + 2x2 - 1x3 = 5         2x1 + 2x2 = -1\n",
    "        0x1 - 2x2 - 1x3 = -7        0x1 - 2x2 = -1\n",
    "        0x1 + 0x2 + 5x3 = 15\n",
    "    >>> gaussian_elimination([[2, 2, -1], [0, -2, -1], [0, 0, 5]], [[5], [-7], [15]])\n",
    "    array([[2.],\n",
    "           [2.],\n",
    "           [3.]])\n",
    "    >>> gaussian_elimination([[2, 2], [0, -2]], [[-1], [-1]])\n",
    "    array([[-1. ],\n",
    "           [ 0.5]])\n",
    "    \"\"\"\n",
    "\n",
    "    rows, columns = np.shape(coefficients)\n",
    "\n",
    "    x = np.zeros((rows, 1), dtype=float)\n",
    "    for row in reversed(range(rows)):\n",
    "        sum = 0\n",
    "        for col in range(row + 1, columns):\n",
    "            sum += coefficients[row, col] * x[col]\n",
    "\n",
    "        x[row, 0] = (vector[row] - sum) / coefficients[row, row]\n",
    "\n",
    "    return x"
   ]
  },
  {
   "cell_type": "code",
   "execution_count": 4,
   "metadata": {},
   "outputs": [
    {
     "data": {
      "text/plain": [
       "array([[2.],\n",
       "       [2.],\n",
       "       [3.]])"
      ]
     },
     "execution_count": 4,
     "metadata": {},
     "output_type": "execute_result"
    }
   ],
   "source": [
    "gaussian_elimination([[2, 2, -1], [0, -2, -1], [0, 0, 5]], [[5], [-7], [15]])"
   ]
  },
  {
   "cell_type": "code",
   "execution_count": 5,
   "metadata": {},
   "outputs": [
    {
     "data": {
      "text/plain": [
       "array([[-1. ],\n",
       "       [ 0.5]])"
      ]
     },
     "execution_count": 5,
     "metadata": {},
     "output_type": "execute_result"
    }
   ],
   "source": [
    "gaussian_elimination([[2, 2], [0, -2]], [[-1], [-1]])"
   ]
  },
  {
   "cell_type": "code",
   "execution_count": null,
   "metadata": {},
   "outputs": [],
   "source": []
  }
 ],
 "metadata": {
  "kernelspec": {
   "display_name": "Python 3",
   "language": "python",
   "name": "python3"
  },
  "language_info": {
   "codemirror_mode": {
    "name": "ipython",
    "version": 3
   },
   "file_extension": ".py",
   "mimetype": "text/x-python",
   "name": "python",
   "nbconvert_exporter": "python",
   "pygments_lexer": "ipython3",
   "version": "3.6.9"
  }
 },
 "nbformat": 4,
 "nbformat_minor": 2
}
